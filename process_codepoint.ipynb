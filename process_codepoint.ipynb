{
 "cells": [
  {
   "cell_type": "markdown",
   "metadata": {},
   "source": [
    "In VS Code, select your interpreter by View>Command Palette> Python: Select Interpreter\n",
    "Point it to the path of the python enviroment in ArcGIS Pro.  For version 3.3.2 that is C:\\Program Files\\ArcGIS\\Pro\\bin\\Python\\envs\\arcgispro-py3\\python.exe"
   ]
  },
  {
   "cell_type": "code",
   "execution_count": 1,
   "metadata": {},
   "outputs": [],
   "source": [
    "import arcpy\n",
    "import os\n",
    "\n",
    "# allow overwritting\n",
    "arcpy.env.overwriteOutput = True"
   ]
  },
  {
   "cell_type": "markdown",
   "metadata": {},
   "source": [
    "## Parameters"
   ]
  },
  {
   "cell_type": "code",
   "execution_count": 1,
   "metadata": {},
   "outputs": [],
   "source": [
    "# path to folder containing the codepoint shapefiles\n",
    "shapefile_folder = 'C:/temp/codepoint_input/'\n",
    "\n",
    "# output path the geo database to store the layers\n",
    "# the database will be created if it does not already exist\n",
    "output_folder = \"C:/temp/codepoint_output/\"\n",
    "output_name = 'codepoint.gdb'\n",
    "output_gdb = output_folder + output_name"
   ]
  },
  {
   "cell_type": "code",
   "execution_count": 2,
   "metadata": {},
   "outputs": [
    {
     "ename": "NameError",
     "evalue": "name 'arcpy' is not defined",
     "output_type": "error",
     "traceback": [
      "\u001b[1;31m---------------------------------------------------------------------------\u001b[0m",
      "\u001b[1;31mNameError\u001b[0m                                 Traceback (most recent call last)",
      "\u001b[1;32m~\\AppData\\Local\\Temp\\ipykernel_10320\\425748296.py\u001b[0m in \u001b[0;36m<cell line: 0>\u001b[1;34m()\u001b[0m\n\u001b[0;32m      1\u001b[0m \u001b[1;31m# Check if the geodatabase exists, and if not, create it\u001b[0m\u001b[1;33m\u001b[0m\u001b[1;33m\u001b[0m\u001b[0m\n\u001b[1;32m----> 2\u001b[1;33m \u001b[1;32mif\u001b[0m \u001b[1;32mnot\u001b[0m \u001b[0marcpy\u001b[0m\u001b[1;33m.\u001b[0m\u001b[0mExists\u001b[0m\u001b[1;33m(\u001b[0m\u001b[0moutput_gdb\u001b[0m\u001b[1;33m)\u001b[0m\u001b[1;33m:\u001b[0m\u001b[1;33m\u001b[0m\u001b[1;33m\u001b[0m\u001b[0m\n\u001b[0m\u001b[0;32m      3\u001b[0m     \u001b[0marcpy\u001b[0m\u001b[1;33m.\u001b[0m\u001b[0mCreateFileGDB_management\u001b[0m\u001b[1;33m(\u001b[0m\u001b[0moutput_folder\u001b[0m\u001b[1;33m,\u001b[0m \u001b[0moutput_name\u001b[0m\u001b[1;33m)\u001b[0m\u001b[1;33m\u001b[0m\u001b[1;33m\u001b[0m\u001b[0m\n\u001b[0;32m      4\u001b[0m     \u001b[0mprint\u001b[0m\u001b[1;33m(\u001b[0m\u001b[1;34mf\"Created geodatabase: {output_gdb}\"\u001b[0m\u001b[1;33m)\u001b[0m\u001b[1;33m\u001b[0m\u001b[1;33m\u001b[0m\u001b[0m\n\u001b[0;32m      5\u001b[0m     \u001b[0marcpy\u001b[0m\u001b[1;33m.\u001b[0m\u001b[0mAddMessage\u001b[0m\u001b[1;33m(\u001b[0m\u001b[1;34mf\"Created geodatabase: {output_gdb}\"\u001b[0m\u001b[1;33m)\u001b[0m\u001b[1;33m\u001b[0m\u001b[1;33m\u001b[0m\u001b[0m\n",
      "\u001b[1;31mNameError\u001b[0m: name 'arcpy' is not defined"
     ]
    }
   ],
   "source": [
    "# Check if the geodatabase exists, and if not, create it\n",
    "if not arcpy.Exists(output_gdb):\n",
    "    arcpy.CreateFileGDB_management(output_folder, output_name)\n",
    "    print(f\"Created geodatabase: {output_gdb}\")\n",
    "    arcpy.AddMessage(f\"Created geodatabase: {output_gdb}\")"
   ]
  },
  {
   "cell_type": "markdown",
   "metadata": {},
   "source": [
    "## Get shapefiles"
   ]
  },
  {
   "cell_type": "code",
   "execution_count": 4,
   "metadata": {},
   "outputs": [
    {
     "name": "stdout",
     "output_type": "stream",
     "text": [
      "There are 120 shapefiles\n"
     ]
    }
   ],
   "source": [
    "# Create a list to hold shapefile paths\n",
    "shapefiles = []\n",
    "\n",
    "# Loop through the folder and add all shapefiles to the list\n",
    "for file in os.listdir(shapefile_folder):\n",
    "    if file.endswith(\".shp\"):\n",
    "        shapefiles.append(os.path.join(shapefile_folder, file))\n",
    "        \n",
    "print(f'There are {len(shapefiles)} shapefiles')\n",
    "arcpy.AddMessage(f'There are {len(shapefiles)} shapefiles')"
   ]
  },
  {
   "cell_type": "code",
   "execution_count": 5,
   "metadata": {},
   "outputs": [],
   "source": [
    "# Define the output feature layer in memory\n",
    "merged_layer = \"memory/merged_shapefiles\"\n",
    "dissolved_layer = 'memory/dissolved'\n",
    "\n",
    "# if layer already exists in memory, delete it\n",
    "# this allows the code to be run more than once in the same session\n",
    "if arcpy.Exists(merged_layer):\n",
    "        arcpy.Delete_management(merged_layer)\n",
    "\n",
    "if arcpy.Exists(dissolved_layer):\n",
    "    arcpy.Delete_management(dissolved_layer)"
   ]
  },
  {
   "cell_type": "markdown",
   "metadata": {},
   "source": [
    "## Merge shapefiles to single layer"
   ]
  },
  {
   "cell_type": "code",
   "execution_count": 6,
   "metadata": {},
   "outputs": [
    {
     "data": {
      "text/html": [
       "<div class='gpresult'><h2>Messages</h2><div id='messages'>Start Time: 10 October 2024 16:20:02<br>Succeeded at 10 October 2024 16:24:21 (Elapsed Time: 4 minutes 18 seconds)<br></div><div id = 'default' /></div></div>"
      ],
      "text/plain": [
       "<Result 'memory\\\\merged_shapefiles'>"
      ]
     },
     "execution_count": 6,
     "metadata": {},
     "output_type": "execute_result"
    }
   ],
   "source": [
    "# Use the Merge tool to combine all shapefiles into one in-memory layer\n",
    "arcpy.Merge_management(shapefiles, merged_layer)"
   ]
  },
  {
   "cell_type": "code",
   "execution_count": 7,
   "metadata": {},
   "outputs": [
    {
     "data": {
      "text/html": [
       "<div class='gpresult'><h2>Messages</h2><div id='messages'>Start Time: 10 October 2024 16:24:21<br>Succeeded at 10 October 2024 16:25:02 (Elapsed Time: 41.29 seconds)<br></div><div id = 'default' /></div></div>"
      ],
      "text/plain": [
       "<Result 'C:\\\\temp\\\\codepoint_output\\\\codepoint.gdb\\\\codepoint'>"
      ]
     },
     "execution_count": 7,
     "metadata": {},
     "output_type": "execute_result"
    }
   ],
   "source": [
    "# output the merged layer to the geodatabase\n",
    "arcpy.management.CopyFeatures(\n",
    "    merged_layer,\n",
    "    output_gdb + '/codepoint'\n",
    ")"
   ]
  },
  {
   "cell_type": "markdown",
   "metadata": {},
   "source": [
    "## Dissolve Postcode Areas"
   ]
  },
  {
   "cell_type": "code",
   "execution_count": 8,
   "metadata": {},
   "outputs": [
    {
     "data": {
      "text/html": [
       "<div class='gpresult'><h2>Messages</h2><div id='messages'>Start Time: 10 October 2024 16:25:02<br>Sorting Attributes...<br>Dissolving...<br>Succeeded at 10 October 2024 16:27:16 (Elapsed Time: 2 minutes 13 seconds)<br></div><div id = 'default' /></div></div>"
      ],
      "text/plain": [
       "<Result 'memory\\\\dissolved'>"
      ]
     },
     "execution_count": 8,
     "metadata": {},
     "output_type": "execute_result"
    }
   ],
   "source": [
    "\n",
    "arcpy.management.Dissolve(\n",
    "    in_features=merged_layer,\n",
    "    out_feature_class=dissolved_layer,\n",
    "    dissolve_field=\"PC_AREA\",\n",
    "    statistics_fields=None,\n",
    "    multi_part=\"MULTI_PART\",\n",
    "    unsplit_lines=\"DISSOLVE_LINES\",\n",
    "    concatenation_separator=\"\"\n",
    ")"
   ]
  },
  {
   "cell_type": "code",
   "execution_count": 9,
   "metadata": {},
   "outputs": [
    {
     "data": {
      "text/html": [
       "<div class='gpresult'><h2>Messages</h2><div id='messages'>Start Time: 10 October 2024 16:27:16<br>Succeeded at 10 October 2024 16:27:16 (Elapsed Time: 0.44 seconds)<br></div><div id = 'default' /></div></div>"
      ],
      "text/plain": [
       "<Result 'C:\\\\temp\\\\codepoint_output\\\\codepoint.gdb\\\\postcode_areas'>"
      ]
     },
     "execution_count": 9,
     "metadata": {},
     "output_type": "execute_result"
    }
   ],
   "source": [
    "# output the dissolved layer to the geodatabase\n",
    "arcpy.management.CopyFeatures(\n",
    "    dissolved_layer,\n",
    "    output_gdb + '/postcode_areas'\n",
    ")"
   ]
  },
  {
   "cell_type": "code",
   "execution_count": 10,
   "metadata": {},
   "outputs": [
    {
     "data": {
      "text/html": [
       "<div class='gpresult'><h2>Messages</h2><div id='messages'>Start Time: 10 October 2024 16:27:17<br>Succeeded at 10 October 2024 16:27:17 (Elapsed Time: 0.01 seconds)<br></div><div id = 'default' /></div></div>"
      ],
      "text/plain": [
       "<Result 'true'>"
      ]
     },
     "execution_count": 10,
     "metadata": {},
     "output_type": "execute_result"
    }
   ],
   "source": [
    "# delete from memory\n",
    "arcpy.Delete_management(merged_layer)\n",
    "arcpy.Delete_management(dissolved_layer)"
   ]
  },
  {
   "cell_type": "code",
   "execution_count": null,
   "metadata": {},
   "outputs": [],
   "source": []
  }
 ],
 "metadata": {
  "kernelspec": {
   "display_name": "Python 3",
   "language": "python",
   "name": "python3"
  },
  "language_info": {
   "codemirror_mode": {
    "name": "ipython",
    "version": 3
   },
   "file_extension": ".py",
   "mimetype": "text/x-python",
   "name": "python",
   "nbconvert_exporter": "python",
   "pygments_lexer": "ipython3",
   "version": "3.11.8"
  }
 },
 "nbformat": 4,
 "nbformat_minor": 2
}
